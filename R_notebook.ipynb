{
 "cells": [
  {
   "cell_type": "markdown",
   "id": "3291c622",
   "metadata": {},
   "source": [
    "## JupyterHUB: R notebook\n",
    "\n",
    "In this notebook we will demonstrate a use case for R in Jupyter. We will perform a simple k-means clustering using the USArrests dataset. \n",
    "\n",
    "### Reading and checking data\n",
    "\n",
    "First of all, we load the necessary packages. Be aware that, different from the IPython kernel, the IRkernel does not provide a method to pass bash commands to the terminal. This also means that you cannot install any extra packages from here. If you are missing any packages, install them before launching JupyterHUB."
   ]
  },
  {
   "cell_type": "code",
   "execution_count": null,
   "id": "c30d342c",
   "metadata": {},
   "outputs": [],
   "source": [
    "library(\"ggplot2\")\n",
    "library(\"stats\")\n",
    "library(\"factoextra\")"
   ]
  },
  {
   "cell_type": "markdown",
   "id": "chemical-bench",
   "metadata": {},
   "source": [
    "As an example, we use a locally stored version of the database (csv file):"
   ]
  },
  {
   "cell_type": "code",
   "execution_count": null,
   "id": "incomplete-campaign",
   "metadata": {},
   "outputs": [],
   "source": [
    "setwd(paste0(getwd(), \"/R_notebook_ex\"))\n",
    "USArrests <- read.table(\"USArrests.csv\")\n",
    "head(USArrests, n = 10)\n",
    "print(paste(\"The dataset contains\", nrow(USArrests), \"states\"))"
   ]
  },
  {
   "cell_type": "markdown",
   "id": "editorial-diamond",
   "metadata": {},
   "source": [
    "Visualizing data is exactly the same as normally. We could for example plot the amount of murder arrests per state. If you use the standard size of th plot, it becomes quite unreadable, due to the many states. \n",
    "\n",
    "We are using the 'repr' package to adjust the size of the graph. This package comes included with the IRkernel package and is used to create readable text and images in tools like Jupyter Notebook. More info can be found here: https://github.com/IRkernel/repr"
   ]
  },
  {
   "cell_type": "code",
   "execution_count": null,
   "id": "southeast-thriller",
   "metadata": {},
   "outputs": [],
   "source": [
    "ggplot(data=USArrests, aes(x=row.names(USArrests), y=Murder)) +\n",
    "  geom_bar(stat=\"identity\")+\n",
    "  ggtitle(\"Murder arrests per state\")+\n",
    "  ylab(\"Murder arrests\")+\n",
    "  xlab(\"State\")+\n",
    "  coord_flip()"
   ]
  },
  {
   "cell_type": "code",
   "execution_count": null,
   "id": "b45800dc",
   "metadata": {},
   "outputs": [],
   "source": [
    "options(repr.plot.width=15, repr.plot.height=8)\n",
    "\n",
    "ggplot(data=USArrests, aes(x=row.names(USArrests), y=Murder)) +\n",
    "  geom_bar(stat=\"identity\")+\n",
    "  ggtitle(\"Murder arrests per state\")+\n",
    "  ylab(\"Murder arrests\")+\n",
    "  xlab(\"State\")+\n",
    "  coord_flip()\n"
   ]
  },
  {
   "cell_type": "markdown",
   "id": "modified-pointer",
   "metadata": {},
   "source": [
    "If we take a closer look at the values of the different variables, some scaling seems to be necessary."
   ]
  },
  {
   "cell_type": "code",
   "execution_count": null,
   "id": "exceptional-ordering",
   "metadata": {},
   "outputs": [],
   "source": [
    "scaled_df <- scale(USArrests)\n",
    "head(scaled_df, n = 10)"
   ]
  },
  {
   "cell_type": "markdown",
   "id": "complicated-chair",
   "metadata": {},
   "source": [
    "### Computing the clusters\n",
    "\n",
    "First, let's set a seed to be able to reproduce our results. Here, the amount of clusters was set to 4. We use the kmeans function of the stats package. We can take a look at the output of the kmeans function:"
   ]
  },
  {
   "cell_type": "code",
   "execution_count": null,
   "id": "marine-correction",
   "metadata": {},
   "outputs": [],
   "source": [
    "set.seed(41)\n",
    "km_clusters <- kmeans(scaled_df, 4, nstart=25)\n",
    "print(km_clusters)"
   ]
  },
  {
   "cell_type": "markdown",
   "id": "national-delivery",
   "metadata": {},
   "source": [
    "We can visualize the clusters easily using the \"factoextra\" package. As you can see, the graph size that was previously set is kept here as well."
   ]
  },
  {
   "cell_type": "code",
   "execution_count": null,
   "id": "dressed-fundamental",
   "metadata": {},
   "outputs": [],
   "source": [
    "fviz_cluster(km_clusters, data=scaled_df)"
   ]
  },
  {
   "cell_type": "code",
   "execution_count": null,
   "id": "5c4670ba",
   "metadata": {},
   "outputs": [],
   "source": []
  }
 ],
 "metadata": {
  "kernelspec": {
   "display_name": "r41env",
   "language": "R",
   "name": "r41env"
  },
  "language_info": {
   "codemirror_mode": "r",
   "file_extension": ".r",
   "mimetype": "text/x-r-source",
   "name": "R",
   "pygments_lexer": "r",
   "version": "4.1.1"
  }
 },
 "nbformat": 4,
 "nbformat_minor": 5
}
